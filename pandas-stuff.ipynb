{
 "cells": [
  {
   "cell_type": "code",
   "execution_count": 4,
   "metadata": {},
   "outputs": [],
   "source": [
    "import pandas as pd\n",
    "import numpy as np\n",
    "import matplotlib.pyplot as plt"
   ]
  },
  {
   "cell_type": "code",
   "execution_count": 6,
   "metadata": {},
   "outputs": [],
   "source": [
    "s= pd.Series([1,3,5,np.nan,6,8])"
   ]
  },
  {
   "cell_type": "code",
   "execution_count": 11,
   "metadata": {},
   "outputs": [
    {
     "name": "stdout",
     "output_type": "stream",
     "text": [
      "0    1.0\n",
      "1    3.0\n",
      "2    5.0\n",
      "3    NaN\n",
      "4    6.0\n",
      "5    8.0\n",
      "dtype: float64\n"
     ]
    }
   ],
   "source": [
    "print(s)"
   ]
  },
  {
   "cell_type": "code",
   "execution_count": 29,
   "metadata": {},
   "outputs": [
    {
     "name": "stdout",
     "output_type": "stream",
     "text": [
      "DatetimeIndex(['2013-01-01', '2013-01-02', '2013-01-03', '2013-01-04',\n",
      "               '2013-01-05', '2013-01-06'],\n",
      "              dtype='datetime64[ns]', freq='D')\n",
      "                   A         B         C         D         E         F  \\\n",
      "2013-01-01 -0.974806 -1.764232  0.598640  0.932394  0.799933  0.518978   \n",
      "2013-01-02  0.277739 -1.569252 -0.227456 -0.481450 -1.424766  0.167421   \n",
      "2013-01-03  0.842280  0.142403  1.538395 -1.915093  0.774446  0.206173   \n",
      "2013-01-04 -0.438411 -0.520393 -0.120845 -0.812041 -0.226073  1.190707   \n",
      "2013-01-05  0.093355  0.884560 -0.220861  0.297954  1.564779 -1.035984   \n",
      "2013-01-06  0.862271 -1.417217  0.584349 -0.094729 -0.418573 -0.218252   \n",
      "\n",
      "                   G         H  \n",
      "2013-01-01  1.572382  0.521686  \n",
      "2013-01-02  1.006576  0.720165  \n",
      "2013-01-03  0.024670 -0.497492  \n",
      "2013-01-04  1.117459 -1.797994  \n",
      "2013-01-05 -2.508708 -0.598318  \n",
      "2013-01-06  0.644651 -1.470144  \n"
     ]
    }
   ],
   "source": [
    "dates = pd.date_range(\"20130101\", periods=6)\n",
    "df = pd.DataFrame(np.random.randn(6,8), index=dates, columns=list('ABCDEFGH'))\n",
    "print (dates)\n",
    "print(df)"
   ]
  },
  {
   "cell_type": "code",
   "execution_count": 45,
   "metadata": {},
   "outputs": [
    {
     "name": "stdout",
     "output_type": "stream",
     "text": [
      "     A          B    C  D      E             F\n",
      "0  1.0 2013-01-02  1.0  2   test  motherfucker\n",
      "1  1.0 2013-01-02  1.0  2  train  motherfucker\n",
      "2  1.0 2013-01-02  1.0  2   test  motherfucker\n",
      "3  1.0 2013-01-02  1.0  2  train  motherfucker\n",
      "4  1.0 2013-01-02  1.0  2     hu  motherfucker\n",
      "A           float64\n",
      "B    datetime64[ns]\n",
      "C           float32\n",
      "D             int32\n",
      "E          category\n",
      "F            object\n",
      "dtype: object\n"
     ]
    }
   ],
   "source": [
    "df2 = pd.DataFrame({ 'A' : 1.,\n",
    "                   'B': pd.Timestamp('20130102'),\n",
    "                   'C': pd.Series(1,index=list(range(5)),dtype='float32'),\n",
    "                   'D': np.array([2] * 5, dtype='int32'),\n",
    "                   'E': pd.Categorical([\"test\",\"train\",\"test\",\"train\",\"hu\"]),\n",
    "                    'F': 'motherfucker'                   })\n",
    "print(df2)\n",
    "print(df2.dtypes)\n"
   ]
  },
  {
   "cell_type": "code",
   "execution_count": 53,
   "metadata": {},
   "outputs": [
    {
     "name": "stdout",
     "output_type": "stream",
     "text": [
      "<_sre.SRE_Match object; span=(0, 3), match='sdf'>\n"
     ]
    }
   ],
   "source": [
    "import re \n",
    "print(re.search(r\"sd.?f\", \"sdf\"))"
   ]
  },
  {
   "cell_type": "code",
   "execution_count": null,
   "metadata": {},
   "outputs": [],
   "source": []
  }
 ],
 "metadata": {
  "kernelspec": {
   "display_name": "Python 3",
   "language": "python",
   "name": "python3"
  },
  "language_info": {
   "codemirror_mode": {
    "name": "ipython",
    "version": 3
   },
   "file_extension": ".py",
   "mimetype": "text/x-python",
   "name": "python",
   "nbconvert_exporter": "python",
   "pygments_lexer": "ipython3",
   "version": "3.6.5"
  }
 },
 "nbformat": 4,
 "nbformat_minor": 2
}
